{
 "cells": [
  {
   "cell_type": "code",
   "execution_count": 7,
   "id": "9c6198e0-bfc3-4e13-9ba2-623d651810eb",
   "metadata": {},
   "outputs": [
    {
     "name": "stdout",
     "output_type": "stream",
     "text": [
      "Open 9-5 daily\n"
     ]
    }
   ],
   "source": [
    "# Create a new file called zoo.py\n",
    "with open('zoo.py', 'w') as file:\n",
    "    file.write(\"def hours():\\n\")\n",
    "    file.write(\"    print('Open 9-5 daily')\\n\")\n",
    "# Import the zoo module\n",
    "import zoo\n",
    "\n",
    "# Call the hours function\n",
    "zoo.hours()\n"
   ]
  },
  {
   "cell_type": "code",
   "execution_count": null,
   "id": "f8b82add-79f8-4b4d-b065-3d41c267aa10",
   "metadata": {},
   "outputs": [],
   "source": []
  }
 ],
 "metadata": {
  "kernelspec": {
   "display_name": "Python 3 (ipykernel)",
   "language": "python",
   "name": "python3"
  },
  "language_info": {
   "codemirror_mode": {
    "name": "ipython",
    "version": 3
   },
   "file_extension": ".py",
   "mimetype": "text/x-python",
   "name": "python",
   "nbconvert_exporter": "python",
   "pygments_lexer": "ipython3",
   "version": "3.12.7"
  }
 },
 "nbformat": 4,
 "nbformat_minor": 5
}
